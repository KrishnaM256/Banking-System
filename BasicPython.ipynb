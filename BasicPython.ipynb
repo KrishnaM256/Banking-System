{
 "cells": [
  {
   "cell_type": "code",
   "execution_count": 5,
   "id": "0fee6f76-4cbb-4f1a-9f5c-e61f2f69b842",
   "metadata": {},
   "outputs": [],
   "source": [
    "x=\"Python\"\n",
    "y=\"ML\""
   ]
  },
  {
   "cell_type": "code",
   "execution_count": 11,
   "id": "0a8b962d-5127-4153-baa2-879e23178ad7",
   "metadata": {},
   "outputs": [
    {
     "name": "stdout",
     "output_type": "stream",
     "text": [
      "This is Python tutorial for ML\n"
     ]
    }
   ],
   "source": [
    "print(\"This is {} tutorial\".format(x)+\" for {}\".format(y))\n"
   ]
  },
  {
   "cell_type": "code",
   "execution_count": 15,
   "id": "04c1b92e-abdb-4623-ac5a-cc581faf0502",
   "metadata": {},
   "outputs": [
    {
     "name": "stdout",
     "output_type": "stream",
     "text": [
      "[1, 2, 4, 6, 89]\n",
      "[0, 2, 4, 6, 8]\n",
      "[8, 6, 4, 2, 0]\n"
     ]
    }
   ],
   "source": [
    "l1 = [1,4,2,6,89]\n",
    "l1.sort()\n",
    "print(l1)\n",
    "l2 = list(range(0,10,2))\n",
    "print(l2)\n",
    "l2.sort(reverse=True)\n",
    "print(l2)"
   ]
  }
 ],
 "metadata": {
  "kernelspec": {
   "display_name": "Python 3 (ipykernel)",
   "language": "python",
   "name": "python3"
  },
  "language_info": {
   "codemirror_mode": {
    "name": "ipython",
    "version": 3
   },
   "file_extension": ".py",
   "mimetype": "text/x-python",
   "name": "python",
   "nbconvert_exporter": "python",
   "pygments_lexer": "ipython3",
   "version": "3.11.7"
  }
 },
 "nbformat": 4,
 "nbformat_minor": 5
}
