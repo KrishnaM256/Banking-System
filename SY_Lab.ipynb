{
  "nbformat": 4,
  "nbformat_minor": 0,
  "metadata": {
    "colab": {
      "provenance": [],
      "authorship_tag": "ABX9TyNpP0rsRRxu/ejGIfO8GZLM",
      "include_colab_link": true
    },
    "kernelspec": {
      "name": "python3",
      "display_name": "Python 3"
    },
    "language_info": {
      "name": "python"
    }
  },
  "cells": [
    {
      "cell_type": "markdown",
      "metadata": {
        "id": "view-in-github",
        "colab_type": "text"
      },
      "source": [
        "<a href=\"https://colab.research.google.com/github/KrishnaM256/Learning-ML/blob/main/SY_Lab.ipynb\" target=\"_parent\"><img src=\"https://colab.research.google.com/assets/colab-badge.svg\" alt=\"Open In Colab\"/></a>"
      ]
    },
    {
      "cell_type": "markdown",
      "source": [
        "Variable, Operator & Expression"
      ],
      "metadata": {
        "id": "t1MC9I3C21ZO"
      }
    },
    {
      "cell_type": "markdown",
      "source": [
        "1.1) Suppose a, b, and c denote the lengths of the sides of a triangle. Then the area\n",
        "of the triangle can be calculated using the formula:\n",
        "\n",
        "where\n",
        "Write a python program that asks the user to input the length of sides of the\n",
        "triangle and print the area."
      ],
      "metadata": {
        "id": "QIS9MzPVa3PU"
      }
    },
    {
      "cell_type": "code",
      "source": [
        "# 1.1)\n",
        "import math\n",
        "a = int(input(\"Enter length of side of triangle: \"))\n",
        "b = int(input(\"Enter length of side of triangle: \"))\n",
        "c = int(input(\"Enter length of side of triangle: \"))\n",
        "\n",
        "s = (a+b+c)/2\n",
        "\n",
        "area = math.sqrt(s*(s-a)*(s-b)*(s-c))\n",
        "\n",
        "print(area)\n"
      ],
      "metadata": {
        "colab": {
          "base_uri": "https://localhost:8080/"
        },
        "id": "OPcPelLotdCZ",
        "outputId": "7bbc57f4-17d9-4a59-de07-0cbdd9acb1e6"
      },
      "execution_count": null,
      "outputs": [
        {
          "output_type": "stream",
          "name": "stdout",
          "text": [
            "Enter length of side of triangle: 2\n",
            "Enter length of side of triangle: 2\n",
            "Enter length of side of triangle: 2\n",
            "1.7320508075688772\n"
          ]
        }
      ]
    },
    {
      "cell_type": "markdown",
      "source": [
        "1.2) Write a python program that prompts the user to input a Celsius temperature\n",
        "and outputs the equivalent temperature in Fahrenheit. The formula to convert\n",
        "the temperature is: F = 9/5 C + 32 where F is the Fahrenheit temperature and C\n",
        "is the Celsius temperature."
      ],
      "metadata": {
        "id": "4XexfO4pa8p-"
      }
    },
    {
      "cell_type": "code",
      "source": [
        "# 1.2)\n",
        "c = float(input(\"Enter the temperature in celsius:\"))\n",
        "\n",
        "f =float( ((9/5)*c)+32)\n",
        "\n",
        "print(\"Temperature in farhenheit is:\",f)"
      ],
      "metadata": {
        "id": "qhxMxOO5Wf8P"
      },
      "execution_count": null,
      "outputs": []
    },
    {
      "cell_type": "markdown",
      "source": [
        "1.3) Write a python program that accepts seconds from keyboard as integer. Your\n",
        "program should convert seconds in hours, minutes and seconds. Your output\n",
        "should like this:\n",
        "Enter seconds: 13400\n",
        "Hours: 3\n",
        "Minutes: 43\n",
        "Seconds: 20"
      ],
      "metadata": {
        "id": "BvUb61Q3bD1T"
      }
    },
    {
      "cell_type": "code",
      "source": [
        "# 1.3)\n",
        "sec = int(input(\"Enter the Seconds : \"))\n",
        "h=sec//3600\n",
        "s=sec%3600\n",
        "min=s//60\n",
        "s=s%60\n",
        "print(\"Time :\",h,\"hrs:\",min,\"mins:\",s,\"sec\")"
      ],
      "metadata": {
        "id": "-lDtdFR2adso"
      },
      "execution_count": null,
      "outputs": []
    },
    {
      "cell_type": "markdown",
      "source": [
        "1.4) Write a python program which prompts the user to input principle, rate and\n",
        "time and calculate compound interest. The formula is:\n",
        "CI = P(1+R/100) ^T - P"
      ],
      "metadata": {
        "id": "JM1pZgiHbI39"
      }
    },
    {
      "cell_type": "code",
      "source": [
        "# 1.4)\n",
        "\n",
        "p = float(input(\"Enter princile value: \"))\n",
        "r = float(input(\"Enter the rate value: \"))\n",
        "t = float(input(\"Enter the time: \"))\n",
        "\n",
        "CI = p*(1+(r/100))**t-p\n",
        "\n",
        "print(\"Compound intrest is:\",CI)\n"
      ],
      "metadata": {
        "id": "eZNHqXeyR-BQ",
        "colab": {
          "base_uri": "https://localhost:8080/"
        },
        "outputId": "70ae2c2f-e890-43d2-876c-67adcb1d16be"
      },
      "execution_count": null,
      "outputs": [
        {
          "output_type": "stream",
          "name": "stdout",
          "text": [
            "Enter princile value: 1000\n",
            "Enter the rate value: 3\n",
            "Enter the time: 20\n",
            "Compound intrest is:  806.1112346694149\n"
          ]
        }
      ]
    },
    {
      "cell_type": "markdown",
      "source": [
        "1.5) Write a python program that prompts the user to input the length and the width\n",
        "of a rectangle and outputs the area and perimeter of the rectangle. The formula\n",
        "is\n",
        "Area = Length x Width\n",
        "Circumference = 2 x (Length + Width)"
      ],
      "metadata": {
        "id": "K8iwg9U1bMY-"
      }
    },
    {
      "cell_type": "code",
      "source": [
        "# 1.5)\n",
        "len = int(input(\"Enter the lenght of rectangle:\"))\n",
        "width = int(input(\"Enter the width of rectangle:\"))\n",
        "\n",
        "area = len*width\n",
        "circumference = 2*(len+width)\n",
        "\n",
        "print(\"Area of rectangle:\",area)\n",
        "print(\"Circumference of rectangle:\",circumference)"
      ],
      "metadata": {
        "colab": {
          "base_uri": "https://localhost:8080/"
        },
        "id": "kXYyoioLu0kX",
        "outputId": "7d2c18fb-39e9-4172-807d-726f3316fc6f"
      },
      "execution_count": null,
      "outputs": [
        {
          "output_type": "stream",
          "name": "stdout",
          "text": [
            "Enter the lenght of rectangle:3\n",
            "Enter the width of rectangle:3\n",
            "Area of rectangle: 9\n",
            "Circumference of rectangle: 12\n"
          ]
        }
      ]
    },
    {
      "cell_type": "markdown",
      "source": [
        "Conditional Structures"
      ],
      "metadata": {
        "id": "x_jMOKtv29Dv"
      }
    },
    {
      "cell_type": "markdown",
      "source": [
        "2.1) The roots of the quadratic equation ax2 + bx + c = 0, a ≠ 0 are given by the\n",
        "following formula:\n",
        "\n",
        "In this formula, the term b2\n",
        "\n",
        "- 4ac is called the discriminant. If b2\n",
        "\n",
        "- 4ac = 0, then\n",
        "the equation has two equal roots.\n",
        "If b2\n",
        "- 4ac > 0, the equation has two real roots. If b2\n",
        "\n",
        "- 4ac < 0, the equation has\n",
        "\n",
        "two complex roots.\n",
        "Write a python program that prompts the user to input the value of a (the\n",
        "coefficient of x2\n",
        "\n",
        "), b (the coefficient of x), and c (the constant term) and outputs\n",
        "\n",
        "the roots of the quadratic equation."
      ],
      "metadata": {
        "id": "zHNBak3jbOwV"
      }
    },
    {
      "cell_type": "code",
      "source": [
        "# 2.1)\n",
        "import math\n",
        "\n",
        "a = int(input(\"Enter the coeff of x^2: \"))\n",
        "b = int(input(\"Enter the coeff of x: \"))\n",
        "c = int(input(\"Enter the constant: \"))\n",
        "\n",
        "D = (b**2) - 4*a*c\n",
        "\n",
        "r1 = (-b - math.sqrt(D))/(2*a)\n",
        "r2 = (-b + math.sqrt(D))/(2*a)\n",
        "\n",
        "print(r1)\n",
        "print(r2)"
      ],
      "metadata": {
        "id": "SA2skBEvdN3y"
      },
      "execution_count": null,
      "outputs": []
    },
    {
      "cell_type": "markdown",
      "source": [
        "2.2) Write a python program that prompts the user to enter their weight (in\n",
        "kilograms) and height (in meters). The program should calculate the Body Mass\n",
        "Index (BMI) using the formula: BMI = weight / (height * height). The program\n",
        "should then classify the BMI into one of the following categories:\n",
        "less than 18.5 - Underweight\n",
        "BMI between 18.5 and 24.9 - Normal weight\n",
        "BMI between 25 and 29.9 - Overweight\n",
        "BMI 30 or greater – Obesity"
      ],
      "metadata": {
        "id": "jp-oqXY3bW0l"
      }
    },
    {
      "cell_type": "code",
      "source": [
        "# 2.2)\n",
        "w = float(input(\"Enter your weight(kg):\"))\n",
        "h = float(input(\"Enter your height(m):\"))\n",
        "\n",
        "bmi = w/(h*h)\n",
        "\n",
        "if(bmi<=18.5):\n",
        "  print(\"You are Under-weight\")\n",
        "elif(bmi>18.5 and bmi<=24.9):\n",
        "  print(\"You are Normal-weight\")\n",
        "elif(bmi>=25 and bmi<=29.9):\n",
        "  print(\"You are Over-weight\")\n",
        "elif(bmi>=30):\n",
        "  print(\"You are Obesity\")\n",
        "else:\n",
        "  print(\"Invalid input\")"
      ],
      "metadata": {
        "colab": {
          "base_uri": "https://localhost:8080/"
        },
        "id": "U3rzaS4fKrSj",
        "outputId": "051d2ef5-5841-4c29-8846-4183c7d83656"
      },
      "execution_count": null,
      "outputs": [
        {
          "output_type": "stream",
          "name": "stdout",
          "text": [
            "Enter your weight(kg):55\n",
            "Enter your height(m):167\n",
            "You are Under-weight\n"
          ]
        }
      ]
    },
    {
      "cell_type": "markdown",
      "source": [
        "2.3) Write a python program that prompts the user to enter their age and prints the\n",
        "corresponding age group. The program should use the following age groups:\n",
        "0-12: Child\n",
        "13-19: Teenager\n",
        "20-59: Adult\n",
        "60 nd above: Senior Citizen"
      ],
      "metadata": {
        "id": "EbRoVOkLbZ-H"
      }
    },
    {
      "cell_type": "code",
      "source": [
        "# 2.3)\n",
        "age = int(input(\"Enter your age:\"))\n",
        "\n",
        "if age>=0 and age<=12 :\n",
        "  print(\"Child\")\n",
        "elif age>=13 and age<=19 :\n",
        "  print(\"Teenager\")\n",
        "elif age>=20 and age<=59 :\n",
        "  print(\"Adult\")\n",
        "else:\n",
        "  print(\"Senior citizen\")"
      ],
      "metadata": {
        "id": "hbb6PO-s--h1",
        "colab": {
          "base_uri": "https://localhost:8080/"
        },
        "outputId": "2c12b2f5-52cc-4c89-e211-09d2e8d5dfba"
      },
      "execution_count": null,
      "outputs": [
        {
          "output_type": "stream",
          "name": "stdout",
          "text": [
            "Enter your age:19\n",
            "Teenager\n"
          ]
        }
      ]
    },
    {
      "cell_type": "markdown",
      "source": [
        "2.4) Write a python program that prompts the user to input number of calls and\n",
        "calculate the monthly telephone bills as per the following rule:\n",
        "Minimum Rs. 200 for up to 100 calls.\n",
        "Plus Rs. 0.60 per call for next 50 calls.\n",
        "Plus Rs. 0.50 per call for next 50 calls.\n",
        "Plus Rs. 0.40 per call for any call beyond 200 calls."
      ],
      "metadata": {
        "id": "FUZWn3SZbcGT"
      }
    },
    {
      "cell_type": "code",
      "source": [
        "# 2.4)\n",
        "calls = int(input(\"Enter number of calls : \"))\n",
        "bill = 0\n",
        "if (calls<=100) :\n",
        "  bill=200\n",
        "elif (calls<=150) :\n",
        "  bill=200+(calls-100)*0.6\n",
        "elif (calls<=200) :\n",
        "  bill=230+(calls-150)*0.5\n",
        "else :\n",
        "  bill=255+(calls-200)*0.4\n",
        "print(\"Bill is : \",bill)"
      ],
      "metadata": {
        "id": "aovVAfdlbewO"
      },
      "execution_count": null,
      "outputs": []
    },
    {
      "cell_type": "markdown",
      "source": [
        "Write a python program that prompts the user to enter a number and\n",
        "determines whether it is positive, negative, or zero. The program should print\n",
        "\"Positive\" if the number is greater than 0, \"Negative\" if the number is less than\n",
        "0, and \"Zero\" if the number is 0."
      ],
      "metadata": {
        "id": "ThTi3wC_beUs"
      }
    },
    {
      "cell_type": "code",
      "source": [
        "# 2.5)\n",
        "n = int(input(\"Enter the number:\"))\n",
        "\n",
        "if(n>0):\n",
        "  print(n,\"is a positive number\")\n",
        "elif(n<0):\n",
        "  print(n,\"is a negative number\")\n",
        "else:\n",
        "  print(\"Number is zero\")\n"
      ],
      "metadata": {
        "id": "MGxE7qk3iKpr"
      },
      "execution_count": null,
      "outputs": []
    },
    {
      "cell_type": "markdown",
      "source": [
        "Looping structures"
      ],
      "metadata": {
        "id": "Cfe_qNiF3BNa"
      }
    },
    {
      "cell_type": "markdown",
      "source": [
        "Write a python program that takes a number n as input from the user and\n",
        "generates the first n terms of the series formed by squaring the natural numbers.\n",
        "Sample output:\n",
        "Enter a number: 6\n",
        "The first 6 terms of the series are:\n",
        "1 4 9 16 25 36"
      ],
      "metadata": {
        "id": "85ae6Hrnbjoa"
      }
    },
    {
      "cell_type": "code",
      "source": [
        "# 3. 1)\n",
        "no = int(input(\"Enter the number:\"))\n",
        "\n",
        "for i in range(1,no+1):\n",
        "  print(i*i,end=\" \")"
      ],
      "metadata": {
        "colab": {
          "base_uri": "https://localhost:8080/"
        },
        "id": "O_1G0WxgyVPS",
        "outputId": "5110a398-261d-4c83-c4ef-a3095c7fc813"
      },
      "execution_count": null,
      "outputs": [
        {
          "output_type": "stream",
          "name": "stdout",
          "text": [
            "Enter the number:6\n",
            "1\n",
            "4\n",
            "9\n",
            "16\n",
            "25\n",
            "36\n"
          ]
        }
      ]
    },
    {
      "cell_type": "markdown",
      "source": [
        "Write a python program to print the first 6 terms of a geometric sequence\n",
        "starting with 2 and having a common ratio of 3.\n",
        "The program should output the following sequence:\n",
        "2 6 18 54 162 486"
      ],
      "metadata": {
        "id": "urnz0WdKblmV"
      }
    },
    {
      "cell_type": "code",
      "source": [
        "# 3.2)\n",
        "a = 2\n",
        "r = 3\n",
        "print(\"Geometric Progression : \")\n",
        "for i in range(1,7) :\n",
        "  GP = a*(r**(i-1))\n",
        "  print(GP,end=\", \")"
      ],
      "metadata": {
        "id": "A2Bu4R0EcZRb"
      },
      "execution_count": null,
      "outputs": []
    },
    {
      "cell_type": "markdown",
      "source": [
        "write a python program that takes a positive integer N as input and calculates\n",
        "the sum of the reciprocals of all numbers from 1 up to N. The program should\n",
        "display the final sum. Output of the program should be like:\n",
        "Enter a positive integer: 5\n",
        "The sum of reciprocals from 1 to 5 is: 2.28"
      ],
      "metadata": {
        "id": "5oRMVKnDbnP7"
      }
    },
    {
      "cell_type": "code",
      "source": [
        "# 3.3)\n",
        "N = int(input(\"Enter positive number:\"))\n",
        "sum =0\n",
        "for i in range(1,N+1):\n",
        "  sum += 1/i\n",
        "print(sum)"
      ],
      "metadata": {
        "colab": {
          "base_uri": "https://localhost:8080/"
        },
        "id": "IdGNqhox4K9l",
        "outputId": "384df806-d61b-480b-86d8-648346e5f683"
      },
      "execution_count": null,
      "outputs": [
        {
          "output_type": "stream",
          "name": "stdout",
          "text": [
            "Enter positive number:5\n",
            "2.283333333333333\n"
          ]
        }
      ]
    },
    {
      "cell_type": "markdown",
      "source": [
        "Write a python program that prompts the user to enter a positive integer. Your\n",
        "program should display all the factors of the number. Additionally, calculate and\n",
        "display the sum of its factors.\n",
        "Sample output:\n",
        "Enter a positive integer: 45\n",
        "Factors: 1 3 5 9 15 45\n",
        "Sum of factors: 78"
      ],
      "metadata": {
        "id": "OVlvqRCPbpb6"
      }
    },
    {
      "cell_type": "code",
      "source": [
        "# 3.4)\n",
        "n = int(input(\"Enter positive number:\"))\n",
        "sum=0\n",
        "print(\"Factors:\",end=\" \")\n",
        "for i in range(1,n+1):\n",
        "  if n%i==0:\n",
        "    print(i,end=\" \")\n",
        "    sum+=i\n",
        "print()\n",
        "print(\"Sum of factors:\",sum)"
      ],
      "metadata": {
        "colab": {
          "base_uri": "https://localhost:8080/"
        },
        "id": "BjMVgWje2z8F",
        "outputId": "7e1b42ca-bb52-454d-9096-9806a1ea4d74"
      },
      "execution_count": null,
      "outputs": [
        {
          "output_type": "stream",
          "name": "stdout",
          "text": [
            "Enter positive number:45\n",
            "Factors: 1 3 5 9 15 45 \n",
            "Sum of factors: 78\n"
          ]
        }
      ]
    },
    {
      "cell_type": "markdown",
      "source": [
        "An Armstrong number of three digits is an integer in which the sum of the cubes\n",
        "of its digits is equal to the number itself. For example, 371 is an Armstrong\n",
        "number since 33 + 73 + 13 = 371.\n",
        "Write a python program to check whether a number is an Armstrong number or\n",
        "not."
      ],
      "metadata": {
        "id": "WoE9T0W9bshE"
      }
    },
    {
      "cell_type": "code",
      "source": [
        "# 3.5)\n",
        "number = int(input(\"Enter the number :\"))\n",
        "no = number\n",
        "n=0\n",
        "while number!=0:\n",
        "  n += int((number%10))**3\n",
        "  number = (number//10)\n",
        "if n==no:\n",
        "  print(no,\"is Armstrong number\")\n",
        "else:\n",
        "  print(no,\"is not Armstrong number\")"
      ],
      "metadata": {
        "colab": {
          "base_uri": "https://localhost:8080/"
        },
        "id": "LC87vnDR0zl9",
        "outputId": "284fe5c0-e55b-481e-93c1-74e60ba83873"
      },
      "execution_count": null,
      "outputs": [
        {
          "output_type": "stream",
          "name": "stdout",
          "text": [
            "Enter the number :371\n",
            "371 is Armstrong number\n"
          ]
        }
      ]
    },
    {
      "cell_type": "markdown",
      "source": [
        "Strings"
      ],
      "metadata": {
        "id": "ovv8VrOR3FIF"
      }
    },
    {
      "cell_type": "markdown",
      "source": [
        "Write a python program that reads a string from keyboard and display:\n",
        "* The number of uppercase letters in the string\n",
        "* The number of lowercase letters in the string\n",
        "* The number of digits in the string\n",
        "* The number of whitespace characters in the string"
      ],
      "metadata": {
        "id": "fgcsxpSMbwv8"
      }
    },
    {
      "cell_type": "code",
      "source": [
        "# 4.1)\n",
        "word = input(\"Enter a string:\")\n",
        "uppercase = 0\n",
        "lowercase = 0\n",
        "digits = 0\n",
        "whitespace = 0\n",
        "for char in word:\n",
        "  if char.isupper():\n",
        "    uppercase+=1\n",
        "  elif char.islower():\n",
        "    lowercase+=1\n",
        "  elif char.isdigit():\n",
        "    digits+=1\n",
        "  elif char == \" \":\n",
        "    whitespace+=1\n",
        "print(\"Uppercases:\",uppercase ,\"Lowercase:\",lowercase ,\"Digits:\",digits , \"Whitespaces:\",whitespace )"
      ],
      "metadata": {
        "colab": {
          "base_uri": "https://localhost:8080/"
        },
        "id": "BGziQAv1xK48",
        "outputId": "9d64b55d-e275-44a3-f868-cb6981a2e0be"
      },
      "execution_count": null,
      "outputs": [
        {
          "output_type": "stream",
          "name": "stdout",
          "text": [
            "Enter a string:KRis\n",
            "Uppercases: 2 Lowercase: 2 Digits: 0 Whitespaces: 0\n"
          ]
        }
      ]
    },
    {
      "cell_type": "markdown",
      "source": [
        "Write a python program in python that accepts a string to setup a password.\n",
        "Your entered password must meet the following requirements:\n",
        " The password must be at least eight characters long.\n",
        " It must contain at least one uppercase letter.\n",
        " It must contain at least one lowercase letter.\n",
        "\n",
        " It must contain at least one numeric digit.\n",
        "Your program should perform this validation."
      ],
      "metadata": {
        "id": "wAIXQi2bb0ic"
      }
    },
    {
      "cell_type": "code",
      "source": [
        "# 4.2)\n",
        "password = input(\"Enter your password:\")\n",
        "length = 0\n",
        "uppercase = 0\n",
        "lowercase = 0\n",
        "digit = 0\n",
        "if len(password) >= 8:\n",
        "  length = 1\n",
        "for char in password:\n",
        "  if(char.isupper()):\n",
        "    uppercase=1\n",
        "  elif(char.islower()):\n",
        "    lowercase=1\n",
        "  elif(char.isdigit()):\n",
        "    digit=1\n",
        "if length ==1 and uppercase == 1 and lowercase == 1 and digit == 1:\n",
        "  print(\"Valid password\")\n",
        "else:\n",
        "  print(\"Invalid password\")\n",
        "\n"
      ],
      "metadata": {
        "colab": {
          "base_uri": "https://localhost:8080/"
        },
        "id": "xQT0ytKR1V37",
        "outputId": "e7549df6-c1ba-415d-d6c0-1e12d47d1c6d"
      },
      "execution_count": null,
      "outputs": [
        {
          "output_type": "stream",
          "name": "stdout",
          "text": [
            "Enter your password:jhfdsfd\n",
            "Invalid password\n"
          ]
        }
      ]
    },
    {
      "cell_type": "markdown",
      "source": [
        "Write a python program that accepts a string from user. Your program should\n",
        "create a new string in reverse of first string and display it.\n",
        "For example, if the user enters the string 'EXAM' then new string would be\n",
        "'MAXE'"
      ],
      "metadata": {
        "id": "Xf9roZp8b4TQ"
      }
    },
    {
      "cell_type": "code",
      "source": [
        "# 4.3)\n",
        "word = input(\"Enter string:\")\n",
        "Rev_str = word[::-1]\n",
        "print(\"Reversed string:\",Rev_str)\n"
      ],
      "metadata": {
        "id": "kK2UTrdi5n_j"
      },
      "execution_count": null,
      "outputs": []
    },
    {
      "cell_type": "markdown",
      "source": [
        "Write a python program that display following output:\n",
        "SHIFT\n",
        "HIFTS\n",
        "IFTSH\n",
        "FTSHI\n",
        "TSHIF\n",
        "SHIFT"
      ],
      "metadata": {
        "id": "2azg4VU3b6fS"
      }
    },
    {
      "cell_type": "code",
      "source": [
        "# 4.4)\n",
        "Str = \"SHIFT\"\n",
        "print(Str)\n",
        "for i in range(1, len(Str)):\n",
        "    rotated_str = Str[i:] + Str[:i]\n",
        "    print(rotated_str)\n"
      ],
      "metadata": {
        "id": "fWTp900bMXIW"
      },
      "execution_count": null,
      "outputs": []
    },
    {
      "cell_type": "markdown",
      "source": [
        "Write a python program that asks the user to input his name and print its\n",
        "initials. Assuming that the user always types first name, middle name and last\n",
        "name and does not include any unnecessary spaces.\n",
        "For example, if the user enters Ajay Kumar Garg the program should display\n",
        "A. K. G.\n",
        "Note: Don’t use split () method"
      ],
      "metadata": {
        "id": "yjiHeJYeb8h0"
      }
    },
    {
      "cell_type": "code",
      "source": [
        "# 4.5)\n",
        "name = input(\"Enter your full name: \")\n",
        "\n",
        "initials = \"\"\n",
        "\n",
        "for char in name:\n",
        "    if char.isupper():\n",
        "        initials += char + \". \"\n",
        "\n",
        "print(\"Initials:\", initials.strip())"
      ],
      "metadata": {
        "id": "pDc9kI2BMvzr"
      },
      "execution_count": null,
      "outputs": []
    },
    {
      "cell_type": "markdown",
      "source": [
        "Lists"
      ],
      "metadata": {
        "id": "69Oru2a33JoB"
      }
    },
    {
      "cell_type": "markdown",
      "source": [
        "Write a program that accepts a list from user. Your program should reverse the\n",
        "content of list and display it. Do not use reverse () method."
      ],
      "metadata": {
        "id": "XHydrZd3b_xN"
      }
    },
    {
      "cell_type": "code",
      "source": [
        "# 5.1)\n",
        "L = []\n",
        "size = int(input('How many elements you want to enter? '))\n",
        "\n",
        "print('Enter',str(size),'elements')\n",
        "\n",
        "for i in range(size):\n",
        "    data = int(input())\n",
        "    L.append(data)\n",
        "\n",
        "#reverse the list\n",
        "for i in range(size//2):\n",
        "    #swapping elements\n",
        "    L[i],L[len(L)-1-i] = L[len(L)-1-i], L[i]\n",
        "\n",
        "print('Reverse list:', L)"
      ],
      "metadata": {
        "id": "_S4l-2LXM_ER",
        "colab": {
          "base_uri": "https://localhost:8080/"
        },
        "outputId": "82fd8fb5-94da-4173-b438-bedba1066e09"
      },
      "execution_count": null,
      "outputs": [
        {
          "output_type": "stream",
          "name": "stdout",
          "text": [
            "How many elements you want to enter? 5\n",
            "Enter 5 elements\n",
            "1\n",
            "2\n",
            "3\n",
            "4\n",
            "5\n",
            "Reverse list: [5, 4, 3, 2, 1]\n"
          ]
        }
      ]
    },
    {
      "cell_type": "markdown",
      "source": [
        "Find and display the largest number of a list without using built-in function\n",
        "max (). Your program should ask the user to input values in list from keyboard."
      ],
      "metadata": {
        "id": "ig_zkOPrcB0V"
      }
    },
    {
      "cell_type": "code",
      "source": [
        "# 5.2)\n",
        "list = []\n",
        "size = int(input('How many elements you want to enter? '))\n",
        "\n",
        "print('Enter',str(size),'positive numbers')\n",
        "\n",
        "for i in range(size):\n",
        "    data = int(input())\n",
        "    list.append(data)\n",
        "\n",
        "max = 0\n",
        "for data in list:\n",
        "    if data > max:\n",
        "        max = data\n",
        "\n",
        "print('The largest number in list is', max)"
      ],
      "metadata": {
        "id": "uqbOiLzLND0c"
      },
      "execution_count": null,
      "outputs": []
    },
    {
      "cell_type": "markdown",
      "source": [
        "Write a python program with a function that accepts a string from keyboard and create\n",
        "a new string after converting character of each word capitalized. For instance,\n",
        "if the sentence is \"stop and smell the roses.\" the output should be \"Stop And\n",
        "Smell The Roses\"."
      ],
      "metadata": {
        "id": "MJwSyoYOcIyS"
      }
    },
    {
      "cell_type": "code",
      "source": [
        "# 5.3)\n",
        "\n",
        "sentence = input('Enter your Sentence  :')\n",
        "words = sentence.split()\n",
        "capital_words = [word.capitalize() for word in words]\n",
        "new_sentence = ' '.join(capital_words)\n",
        "\n",
        "print(\"Capitalized sentence:\", new_sentence)"
      ],
      "metadata": {
        "id": "YNRMnZvjNKpv",
        "colab": {
          "base_uri": "https://localhost:8080/"
        },
        "outputId": "8a3dafb2-09d5-407d-cf19-1f8ad58c9ef0"
      },
      "execution_count": null,
      "outputs": [
        {
          "output_type": "stream",
          "name": "stdout",
          "text": [
            "Enter your Sentence  :Hi krishna\n",
            "Capitalized sentence: Hi Krishna\n"
          ]
        }
      ]
    },
    {
      "cell_type": "markdown",
      "source": [
        "Find the sum of each row of matrix of size m x n. For example, for the\n",
        "following matrix output will be like this:\n",
        "\n",
        "Sum of row 1 = 32\n",
        "Sum of row 2 = 31\n",
        "Sum of row 3 = 63"
      ],
      "metadata": {
        "id": "sEDu8JzScLEC"
      }
    },
    {
      "cell_type": "code",
      "source": [
        "# 5.4)\n",
        "\n",
        "n = int(input(\"Enter the number of rows:\"))\n",
        "m = int(input(\"Enter the number of columns:\"))\n",
        "\n",
        "matrix = []\n",
        "\n",
        "print(\"Enter values in matrix :\")\n",
        "\n",
        "for i in range(n):\n",
        "    data =[]\n",
        "    for j in range(m):\n",
        "         data.append(int(input()))\n",
        "    matrix.append(data)\n",
        "\n",
        "# For printing the matrix\n",
        "for i in range(n):\n",
        "    for j in range(m):\n",
        "        print(matrix[i][j], end = \" \")\n",
        "    print()\n",
        "\n",
        "\n",
        "# For printing row wise sum\n",
        "for i in range(n):\n",
        "    sum = 0\n",
        "    for j in range(m):\n",
        "        sum = sum + matrix[i][j]\n",
        "    print('Sum of row',i+1,':',sum)"
      ],
      "metadata": {
        "id": "ToDcLm35NOoF"
      },
      "execution_count": null,
      "outputs": []
    },
    {
      "cell_type": "markdown",
      "source": [
        "Write a program that input a string and ask user to delete a given word from a\n",
        "string"
      ],
      "metadata": {
        "id": "qrjlND1jcYp5"
      }
    },
    {
      "cell_type": "code",
      "source": [
        "# 5.5)\n",
        "Str = input('Enter a string: ')\n",
        "words = Str.split()\n",
        "\n",
        "data = input('Enter a word to delete: ')\n",
        "status = False\n",
        "\n",
        "for word in words:\n",
        "    if word == data:\n",
        "        words.remove(word)\n",
        "        status = True\n",
        "\n",
        "if status:\n",
        "    Str = ' '.join(words)\n",
        "    print('String after deletion:',Str)\n",
        "else:\n",
        "    print('Word not present in string.')\n"
      ],
      "metadata": {
        "id": "eOzCimfuNSs7"
      },
      "execution_count": null,
      "outputs": []
    },
    {
      "cell_type": "markdown",
      "source": [
        "#Dictionary"
      ],
      "metadata": {
        "id": "H6cDoU6G4m-m"
      }
    },
    {
      "cell_type": "markdown",
      "source": [
        "Write a program that reads a string from keyboard and prints the unique words.\n",
        "Your program should convert input string to lower case."
      ],
      "metadata": {
        "id": "T4L0_dzmcbLt"
      }
    },
    {
      "cell_type": "code",
      "source": [
        "# 6.1)\n",
        "Str = input('Enter a string: ').lower()\n",
        "words = Str.split()\n",
        "\n",
        "d = {}\n",
        "for word in words:\n",
        "    if not word in d:\n",
        "        d[word]=0\n",
        "        print(word, end=\" \")"
      ],
      "metadata": {
        "id": "RX0_QC1iNWGG"
      },
      "execution_count": null,
      "outputs": []
    },
    {
      "cell_type": "markdown",
      "source": [
        "Write a program to print all elements in a list those have only single occurrence.\n",
        "Example: if contents of list is [7, 5, 5, 1, 6, 7, 8, 7, 6].\n",
        "Your output should be:\n",
        "1 8"
      ],
      "metadata": {
        "id": "YY8AwJGGceWo"
      }
    },
    {
      "cell_type": "code",
      "source": [
        "# 6.2)\n",
        "list = []\n",
        "size = int(input('How many elements you want to enter? '))\n",
        "\n",
        "print('Enter',str(size),'numbers')\n",
        "\n",
        "for i in range(size):\n",
        "    data = int(input())\n",
        "    list.append(data)\n",
        "\n",
        "d={}\n",
        "\n",
        "for value in list:\n",
        "    if not value in d:\n",
        "        d[value]=1\n",
        "    else:\n",
        "        d[value]+=1\n",
        "\n",
        "for k in d:\n",
        "    if d[k] == 1:\n",
        "        print( \"single occurrence number:\",k)"
      ],
      "metadata": {
        "id": "ShEbUshFNqPs",
        "colab": {
          "base_uri": "https://localhost:8080/"
        },
        "outputId": "bf08176c-9f80-40c9-8860-c56c2a1b66ab"
      },
      "execution_count": null,
      "outputs": [
        {
          "output_type": "stream",
          "name": "stdout",
          "text": [
            "How many elements you want to enter? 5\n",
            "Enter 5 numbers\n",
            "3\n",
            "2\n",
            "5\n",
            "2\n",
            "1\n",
            "single occurrence number: 3\n",
            "single occurrence number: 5\n",
            "single occurrence number: 1\n"
          ]
        }
      ]
    },
    {
      "cell_type": "markdown",
      "source": [
        "Write a program to read 6 numbers and create a dictionary having keys EVEN\n",
        "and ODD. Dictionary's value should be stored in list. Your dictionary should\n",
        "be like:\n",
        "{'EVEN':[8,10,64], 'ODD':[1,5,9]}"
      ],
      "metadata": {
        "id": "X8ml7nJCchZ6"
      }
    },
    {
      "cell_type": "code",
      "source": [
        "# 6.3)\n",
        "L = []\n",
        "d={'EVEN':[],'ODD':[]}\n",
        "print(\"Enter 6 positive numbers :\")\n",
        "for i in range(0,6):\n",
        "  data = int(input())\n",
        "  L.append(data)\n",
        "print(L)\n",
        "for value in L:\n",
        "  if value%2==0:\n",
        "    d['EVEN'].append(value)\n",
        "  elif  value%2!=0:\n",
        "    d['ODD'].append(value)\n",
        "print(d)"
      ],
      "metadata": {
        "id": "9Lq_tgVkNu31",
        "colab": {
          "base_uri": "https://localhost:8080/"
        },
        "outputId": "9269cf97-e2d1-4600-c0ed-03d644ab5508"
      },
      "execution_count": null,
      "outputs": [
        {
          "output_type": "stream",
          "name": "stdout",
          "text": [
            "Enter 6 positive numbers :\n",
            "4\n",
            "3\n",
            "5\n",
            "6\n",
            "3\n",
            "6\n",
            "[4, 3, 5, 6, 3, 6]\n",
            "{'EVEN': [4, 6, 6], 'ODD': [3, 5, 3]}\n"
          ]
        }
      ]
    },
    {
      "cell_type": "markdown",
      "source": [
        " 6.4) Write a program that reads string from user. Your program should create a\n",
        "dictionary having key as word length and value is count of words of that\n",
        "length. For example, if user enters 'A fat cat is on the mat'.\n",
        "WordWord length\n",
        "A 1\n",
        "fat 3\n",
        "cat 3\n",
        "is 2\n",
        "on 2\n",
        "the 3\n",
        "mat 3\n",
        "The content of dictionary should be {1:1, 3:4, 2:2}"
      ],
      "metadata": {
        "id": "EAa-FcEJco08"
      }
    },
    {
      "cell_type": "code",
      "source": [
        "# 6.4)\n",
        "string = input(\"Enter string:\")\n",
        "d={}\n",
        "L_len =[]\n",
        "words = string.split()\n",
        "for word in words:\n",
        "  L_len.append(len(word))\n"
      ],
      "metadata": {
        "id": "4dYeUul6Nxlm",
        "colab": {
          "base_uri": "https://localhost:8080/"
        },
        "outputId": "ea48c262-96e3-4844-d9b6-3d11ff97335c"
      },
      "execution_count": null,
      "outputs": [
        {
          "output_type": "stream",
          "name": "stdout",
          "text": [
            "Enter string:Hi Hello HWRU?\n",
            "[2, 5, 5]\n"
          ]
        }
      ]
    },
    {
      "cell_type": "markdown",
      "source": [
        "Write a program to input roll numbers and their names of students of your\n",
        "class and store them in the dictionary as the key-value pair. Perform the\n",
        "following operations on the dictionary:\n",
        "a) Display the Roll numbers and name for all students.\n",
        "b) Add a new key-value pair in this dictionary and display the modified\n",
        "dictionary\n",
        "c) Delete a particular student's record from the dictionary\n",
        "d) Modify the name of an existing students."
      ],
      "metadata": {
        "id": "ir88rGeOdjfj"
      }
    },
    {
      "cell_type": "code",
      "source": [
        "#6.5)\n",
        "\n",
        "n = int(input(\"Enter how many student:\"))\n",
        "details = {}\n",
        "\n",
        "for i in range(n):\n",
        "  roll = int(input(\"Enter roll number:\"))\n",
        "  name = input(\"Enter name of student:\")\n",
        "  details.update({roll:name})\n",
        "\n",
        "print(details)\n",
        "details.update({4:\"shubham\"})\n",
        "print(details)\n",
        "\n",
        "roll_del = int(input(\"Enter the roll number of student you want to delete record of:\"))\n",
        "del details[roll_del]\n",
        "print(details)\n",
        "\n",
        "roll_upd = int(input(\"Enter the roll number of student you want to update record of:\"))\n",
        "upd_name = input(\"Enter the name:\")\n",
        "details[roll_upd] = upd_name\n",
        "print(details)"
      ],
      "metadata": {
        "id": "ccTpIXFpN02G",
        "colab": {
          "base_uri": "https://localhost:8080/"
        },
        "outputId": "a4821b66-14d5-4b85-9afd-fe41e70d252f"
      },
      "execution_count": null,
      "outputs": [
        {
          "output_type": "stream",
          "name": "stdout",
          "text": [
            "Enter how many student:3\n",
            "Enter roll number:1\n",
            "Enter name of student:krishna\n",
            "Enter roll number:2\n",
            "Enter name of student:adi\n",
            "Enter roll number:3\n",
            "Enter name of student:shubh\n",
            "{1: 'krishna', 2: 'adi', 3: 'shubh'}\n",
            "Enter the roll number of student you want to delete recored of:2\n",
            "{1: 'krishna', 3: 'shubh', 4: 'shubham'}\n",
            "Enter the roll number of student you want to update record of:3\n",
            "Enter the name:Ronny\n",
            "{1: 'krishna', 3: 'Ronny', 4: 'shubham'}\n"
          ]
        }
      ]
    },
    {
      "cell_type": "markdown",
      "source": [
        "#Function"
      ],
      "metadata": {
        "id": "eRr6KxkXrg2d"
      }
    },
    {
      "cell_type": "markdown",
      "source": [
        "7.1) Write a function find_max that accepts three numbers as arguments and returns\n",
        "the largest number among three. Write another function main, in main()\n",
        "function accept three numbers from user and call find_max."
      ],
      "metadata": {
        "id": "RiEH8XrJrT8n"
      }
    },
    {
      "cell_type": "code",
      "source": [
        "def find_max(a,b,c):\n",
        "  if a>=b and a>=c :\n",
        "    return a\n",
        "  elif b>=c:\n",
        "    return b\n",
        "  else:\n",
        "    return c\n",
        "\n",
        "def main():\n",
        "  n1 = int(input(\"Enter the number 1:\"))\n",
        "  n2 = int(input(\"Enter the number 2:\"))\n",
        "  n3 = int(input(\"Enter the number 3:\"))\n",
        "  max = find_max(n1,n2,n3)\n",
        "  print(\"Largest number is:\",max)\n",
        "\n",
        "main()"
      ],
      "metadata": {
        "colab": {
          "base_uri": "https://localhost:8080/"
        },
        "id": "HZMAcWUZrSrc",
        "outputId": "63a84a16-03d3-4d68-ffcc-130a5fe30407"
      },
      "execution_count": null,
      "outputs": [
        {
          "output_type": "stream",
          "name": "stdout",
          "text": [
            "Enter the number 1:4\n",
            "Enter the number 2:2\n",
            "Enter the number 3:7\n",
            "Largest number is: 7\n"
          ]
        }
      ]
    },
    {
      "cell_type": "markdown",
      "source": [
        "7.2) Write a function named is_prime, which takes an integer as an argument and\n",
        "returns true if the argument is a prime number, or false otherwise. Also, write\n",
        "the main function that displays prime numbers between 1 to 500."
      ],
      "metadata": {
        "id": "kt9xw5iessQJ"
      }
    },
    {
      "cell_type": "code",
      "source": [
        "def is_prime(num):\n",
        "  flag=0\n",
        "  for i in range(1,num):\n",
        "    if(num%i==0):\n",
        "      flag = 1\n",
        "      break\n",
        "  if flag==0:\n",
        "    return True\n",
        "  else:\n",
        "    return False\n",
        "def main():\n",
        "  for i in range(2,501):\n",
        "    flag=0\n",
        "    for j in range(2,int(i/2)+1):\n",
        "      if i%j==0:\n",
        "        flag=1\n",
        "        break\n",
        "    if flag==0:print(i,end=\" \")\n",
        "\n",
        "print(is_prime(10))\n",
        "main()"
      ],
      "metadata": {
        "colab": {
          "base_uri": "https://localhost:8080/"
        },
        "id": "WW_wHOaZsovS",
        "outputId": "97226c33-3de5-44c8-f164-4e83ed1bf845"
      },
      "execution_count": null,
      "outputs": [
        {
          "output_type": "stream",
          "name": "stdout",
          "text": [
            "False\n",
            "2 3 5 7 11 13 17 19 23 29 31 37 41 43 47 53 59 61 67 71 73 79 83 89 97 101 103 107 109 113 127 131 137 139 149 151 157 163 167 173 179 181 191 193 197 199 211 223 227 229 233 239 241 251 257 263 269 271 277 281 283 293 307 311 313 317 331 337 347 349 353 359 367 373 379 383 389 397 401 409 419 421 431 433 439 443 449 457 461 463 467 479 487 491 499 "
          ]
        }
      ]
    },
    {
      "cell_type": "markdown",
      "source": [
        "7.3) Write the definition of a function zero_ending(scores) to add all those values\n",
        "in the list of scores, which are ending with zero and display the sum.\n",
        " For example: If the scores contain [200, 456, 300, 100, 234, 678] The\n",
        " sum should be displayed as 600."
      ],
      "metadata": {
        "id": "5iUilTCqkglu"
      }
    },
    {
      "cell_type": "code",
      "source": [
        "def zero_ending(scores):\n",
        "  sum=0\n",
        "  for e in scores:\n",
        "    if e%10 == 0:\n",
        "      sum += e\n",
        "  return sum\n",
        "L =  []\n",
        "n = int(input(\"Enter hopw many elements in list:\"))\n",
        "print(\"Enter the list elements\")\n",
        "for i in range(n):\n",
        "  L.append(int(input()))\n",
        "zero_ending(L)"
      ],
      "metadata": {
        "colab": {
          "base_uri": "https://localhost:8080/"
        },
        "id": "hjeCwp25kUQB",
        "outputId": "7c2dee14-9a10-4ee4-8b18-d340eeda2630"
      },
      "execution_count": null,
      "outputs": [
        {
          "name": "stdout",
          "output_type": "stream",
          "text": [
            "Enter hopw many elements in list:4\n",
            "Enter the list elements\n",
            "300\n",
            "444\n",
            "200\n",
            "12\n"
          ]
        },
        {
          "output_type": "execute_result",
          "data": {
            "text/plain": [
              "500"
            ]
          },
          "metadata": {},
          "execution_count": 2
        }
      ]
    },
    {
      "cell_type": "markdown",
      "source": [],
      "metadata": {
        "id": "HNm890bV6-BA"
      }
    },
    {
      "cell_type": "markdown",
      "source": [
        "7.4) Write a function half_and_half that takes in a list and change the list such that\n",
        "the elements of the second half are now in the first half.\n",
        " For example, if the size of list is even and content of list is as follows :\n",
        " my_list = [10,20,30,40,50,60]\n",
        " The output should be\n",
        " [40,50,60,10,20,30]\n",
        " if the size of list is odd and content of list is as follows :\n",
        " my_list = [10,20,30,40,50,60,70]\n",
        " The output should be\n",
        " [50,60,70,40,10,20,30]"
      ],
      "metadata": {
        "id": "SyLpj-N28VqC"
      }
    },
    {
      "cell_type": "code",
      "source": [
        "def half_and_half(myL):\n",
        "  n=len(myL)\n",
        "  i=0\n",
        "  j=int(n/2)\n",
        "  if n%2!=0:j+=1\n",
        "  while(j<n):\n",
        "    temp = myL[i]\n",
        "    myL[i]=myL[j]\n",
        "    myL[j]=temp\n",
        "    i+=1\n",
        "    j+=1\n",
        "L =  []\n",
        "n = int(input(\"Enter how many elements in list:\"))\n",
        "print(\"Enter the list elements\")\n",
        "for i in range(n):\n",
        "  L.append(int(input()))\n",
        "half_and_half(L)\n",
        "print(L)"
      ],
      "metadata": {
        "id": "dUK-3ABD6kf_",
        "colab": {
          "base_uri": "https://localhost:8080/"
        },
        "outputId": "7d9f0d3e-80dd-48b5-c65f-2c34be1066be"
      },
      "execution_count": null,
      "outputs": [
        {
          "output_type": "stream",
          "name": "stdout",
          "text": [
            "Enter hopw many elements in list:4\n",
            "Enter the list elements\n",
            "10\n",
            "20\n",
            "30\n",
            "40\n",
            "[30, 40, 10, 20]\n"
          ]
        }
      ]
    },
    {
      "cell_type": "markdown",
      "source": [
        "7.5) Write the definition of a function zero ending(scores) to add all those values in\n",
        "the list of scores, which are ending with zero and display the sum."
      ],
      "metadata": {
        "id": "fW9gXk8U_mmm"
      }
    },
    {
      "cell_type": "code",
      "source": [
        "def zero_ending(scores):\n",
        "  sum=0\n",
        "  for e in scores:\n",
        "    if e%10 == 0:\n",
        "      sum += e\n",
        "  return sum\n",
        "L =  []\n",
        "n = int(input(\"Enter hopw many elements in list:\"))\n",
        "print(\"Enter the list elements\")\n",
        "for i in range(n):\n",
        "  L.append(int(input()))\n",
        "zero_ending(L)"
      ],
      "metadata": {
        "id": "I4oPY1cI_mRc"
      },
      "execution_count": null,
      "outputs": []
    },
    {
      "cell_type": "markdown",
      "source": [
        "#Recursion"
      ],
      "metadata": {
        "id": "N0rwv2cf_1Nw"
      }
    },
    {
      "cell_type": "markdown",
      "source": [
        "8.1)Write a recursive function that accepts an integer argument and returns the\n",
        "factorial."
      ],
      "metadata": {
        "id": "Z6PyWn9a_5Zo"
      }
    },
    {
      "cell_type": "code",
      "source": [
        "def factorial(num):\n",
        "  if(num==0 or num==1):\n",
        "    return 1\n",
        "  elif num<0:\n",
        "    return\n",
        "  else:\n",
        "    return factorial(num-1)*num\n",
        "n = int(input(\"Enter the number:\"))\n",
        "print(\"factorial of a given number is:\",factorial(n))"
      ],
      "metadata": {
        "colab": {
          "base_uri": "https://localhost:8080/"
        },
        "id": "MSyphxr9_06L",
        "outputId": "ccc152dd-40c7-47b8-fe2e-aa3cf3520538"
      },
      "execution_count": null,
      "outputs": [
        {
          "output_type": "stream",
          "name": "stdout",
          "text": [
            "Enter the number:4\n",
            "factorial of a given number is: 24\n"
          ]
        }
      ]
    },
    {
      "cell_type": "markdown",
      "source": [
        "8.2) Write a recursive function that accepts two numbers as its argument and\n",
        "returns its power."
      ],
      "metadata": {
        "id": "lA9RxCk4BAWX"
      }
    },
    {
      "cell_type": "code",
      "source": [
        "def power(num,exp):\n",
        "  if(exp==0):\n",
        "    return 1\n",
        "  else:\n",
        "    return num*power(num,exp-1)\n",
        "\n",
        "num = int(input(\"Enter the number:\"))\n",
        "exp = int(input(\"Enter the exponent number:\"))\n",
        "\n",
        "print(\"Power:\",power(num,exp))"
      ],
      "metadata": {
        "colab": {
          "base_uri": "https://localhost:8080/"
        },
        "id": "2eVpU42VAyP3",
        "outputId": "9f3dbc42-deb5-417d-8453-ed0db9556d61"
      },
      "execution_count": null,
      "outputs": [
        {
          "output_type": "stream",
          "name": "stdout",
          "text": [
            "Enter the number:5\n",
            "Enter the exponent of number:3\n",
            "Power: 125\n"
          ]
        }
      ]
    },
    {
      "cell_type": "markdown",
      "source": [
        "8.3) Write a recursive function that accepts an integer argument in n. This function\n",
        "returns the nth Fibonacci number. Call the function to print fibonacci\n",
        "sequences."
      ],
      "metadata": {
        "id": "henU29YpCu7Q"
      }
    },
    {
      "cell_type": "code",
      "source": [
        "def fibonacci(number):\n",
        "  if(number<=1):return number\n",
        "  else:\n",
        "    return fibonacci(number-1)+fibonacci(number-2)\n",
        "\n",
        "print(fibonacci(4))"
      ],
      "metadata": {
        "colab": {
          "base_uri": "https://localhost:8080/"
        },
        "id": "kfzSdVICCs0C",
        "outputId": "584d5833-e572-4a5f-8c08-5ece96c5a38f"
      },
      "execution_count": null,
      "outputs": [
        {
          "output_type": "stream",
          "name": "stdout",
          "text": [
            "3\n"
          ]
        }
      ]
    },
    {
      "cell_type": "markdown",
      "source": [
        "8.4) Write a recursive function that accepts a decimal integer and display its binary\n",
        "equivalent.\n"
      ],
      "metadata": {
        "id": "6eW8YY4yO7N3"
      }
    },
    {
      "cell_type": "code",
      "source": [],
      "metadata": {
        "id": "3OsUm8UuO66r"
      },
      "execution_count": null,
      "outputs": []
    },
    {
      "cell_type": "markdown",
      "source": [
        "#OTHER PROGRAMS"
      ],
      "metadata": {
        "id": "o2DRd1quykoW"
      }
    },
    {
      "cell_type": "code",
      "source": [
        "no1 = int(input(\"Enter the 1st no. : \"))\n",
        "no2 = int(input(\"Enter the 2st no. : \"))\n",
        "print(\"Sum of numbers : \",(no1+no2))"
      ],
      "metadata": {
        "id": "W6UTk32VZuNL"
      },
      "execution_count": null,
      "outputs": []
    },
    {
      "cell_type": "code",
      "source": [
        "\n",
        "num = int(input(\"Enter the number:\"))\n",
        "if(num%2==0):\n",
        "  print(num,\" is even number\")\n",
        "else:\n",
        "    print(num,\" is odd number\")"
      ],
      "metadata": {
        "id": "wXWi5nQ_OsNx",
        "colab": {
          "base_uri": "https://localhost:8080/"
        },
        "outputId": "bb398c0e-ba72-49c6-bbae-701d54b03a78"
      },
      "execution_count": null,
      "outputs": [
        {
          "output_type": "stream",
          "name": "stdout",
          "text": [
            "Enter the number:2\n",
            "2  is even number\n"
          ]
        }
      ]
    },
    {
      "cell_type": "code",
      "source": [
        "age = int(input(\"Enter your age:\"))\n",
        "if(age>=18):\n",
        "  print(\"You are eligible for voting\")\n",
        "elif(age>=0 and age<18):\n",
        "  print(\"You are not eligible for voting\")\n",
        "else:\n",
        "  print(\"Enter valid number\")"
      ],
      "metadata": {
        "id": "f1W20BmXOzg9",
        "colab": {
          "base_uri": "https://localhost:8080/"
        },
        "outputId": "2ec90efd-9e6f-4f8e-a171-8a6ec5ffe168"
      },
      "execution_count": null,
      "outputs": [
        {
          "output_type": "stream",
          "name": "stdout",
          "text": [
            "Enter your age:19\n",
            "You are eligible for voting\n"
          ]
        }
      ]
    },
    {
      "cell_type": "code",
      "source": [
        "no1 = int(input(\"Enter number 1:\"))\n",
        "no2 = int(input(\"Enter number 2:\"))\n",
        "\n",
        "if no1>no2:\n",
        "  print(\"Greatest number is: \",no1)\n",
        "else:\n",
        "  print(\"Greatest number is: \",no2)"
      ],
      "metadata": {
        "id": "BX-Ixz7pPB6x",
        "colab": {
          "base_uri": "https://localhost:8080/"
        },
        "outputId": "e4fbd17b-288e-4b22-aeda-2b324771721a"
      },
      "execution_count": null,
      "outputs": [
        {
          "output_type": "stream",
          "name": "stdout",
          "text": [
            "Enter number 1:4\n",
            "Enter number 2:7\n",
            "Greatest number is:  7\n"
          ]
        }
      ]
    },
    {
      "cell_type": "code",
      "source": [
        "f = float(input(\"Enter the temperature in Fahrenheit : \"))\n",
        "c = float((f-32)*5/9)\n",
        "print(\"Temperature in degree Celcius\",round(c,2),\"°C\")"
      ],
      "metadata": {
        "colab": {
          "base_uri": "https://localhost:8080/"
        },
        "id": "-MIDbM_OaAG2",
        "outputId": "c3439f1a-1ebf-4460-bcbc-d3ada3713845"
      },
      "execution_count": null,
      "outputs": [
        {
          "output_type": "stream",
          "name": "stdout",
          "text": [
            "Enter the temperature in Fahrenheit : 25\n",
            "Temperature in degree Celcius -3.89 °C\n"
          ]
        }
      ]
    },
    {
      "cell_type": "code",
      "source": [
        "#Display all factors of a number\n",
        "num = int(input(\"Enter the number:\"))\n",
        "sum=0\n",
        "for i in range(1,num+1):\n",
        "  if(num%i == 0):\n",
        "    sum += i\n",
        "    print(i)\n",
        "print(sum,\"is the sum of factors\")"
      ],
      "metadata": {
        "id": "Y7mtzc3EXHcg"
      },
      "execution_count": null,
      "outputs": []
    },
    {
      "cell_type": "code",
      "source": [
        "P = float(input(\"Enter the Principle amount : \"))\n",
        "R = float(input(\"Enter the rate : \"))\n",
        "T = float(input(\"Enter the Time period :\"))\n",
        "SI = (P*R*T)/100\n",
        "print(\"The Simple Interest : \",SI)"
      ],
      "metadata": {
        "id": "91mDGsw1aTwS"
      },
      "execution_count": null,
      "outputs": []
    },
    {
      "cell_type": "code",
      "source": [
        "no = 0;\n",
        "while no>=0 :\n",
        "  no = int(input(\"Enter number:\"))\n",
        "print(\"Program has ended\")"
      ],
      "metadata": {
        "id": "K_Z7feIMZp3i"
      },
      "execution_count": null,
      "outputs": []
    },
    {
      "cell_type": "code",
      "source": [
        "ch = (input(\"Enter the character:\"))\n",
        "vowels = ['a','e','i','o','u']\n",
        "\n",
        "for c in vowels:\n",
        "  if(ch==c):\n",
        "    print(\"It is vowel number\")\n",
        "else:\n",
        "  print(\"It is consonant number\")"
      ],
      "metadata": {
        "id": "yyluGlLHaqKf"
      },
      "execution_count": null,
      "outputs": []
    },
    {
      "cell_type": "code",
      "source": [
        "#Enter 3 numbers and print in ascending order\n",
        "\n",
        "no1 = int(input(\"Enter number 1:\"))\n",
        "no2 = int(input(\"Enter number 2:\"))\n",
        "no3 = int(input(\"Enter number 3:\"))\n",
        "\n",
        "L = [no1,no2,no3]\n",
        "\n",
        "for i in range(0,3):\n",
        "  for j in range(0,3):\n",
        "    if(L[i]<L[j]):\n",
        "       n = L[i]\n",
        "       L[i]=L[j]\n",
        "       L[j]=n\n",
        "print(L)"
      ],
      "metadata": {
        "colab": {
          "base_uri": "https://localhost:8080/"
        },
        "id": "j8lAHuh7DLFp",
        "outputId": "c86f0c8e-ed89-4d7b-eabe-26c7929b055f"
      },
      "execution_count": null,
      "outputs": [
        {
          "output_type": "stream",
          "name": "stdout",
          "text": [
            "Enter number 1:6\n",
            "Enter number 2:1\n",
            "Enter number 3:4\n",
            "[1, 4, 6]\n"
          ]
        }
      ]
    },
    {
      "cell_type": "code",
      "source": [
        "no = int(input(\"Enter number 1-7:\"))\n",
        "\n",
        "if(no==1):\n",
        "  print(\"Sunday\")\n",
        "elif(no==2):\n",
        "  print(\"Monday\")\n",
        "elif(no==3):\n",
        "  print(\"Tuesday\")\n",
        "elif(no==4):\n",
        "  print(\"Wednesday\")\n",
        "elif(no==5):\n",
        "  print(\"Thursday\")\n",
        "elif(no==6):\n",
        "  print(\"Friday\")\n",
        "elif(no==7):\n",
        "  print(\"Saturday\")\n",
        "else:\n",
        "  print(\"Invalid input\")\n"
      ],
      "metadata": {
        "colab": {
          "base_uri": "https://localhost:8080/"
        },
        "id": "eP2uP2zdDJ9o",
        "outputId": "da4fa07d-d235-424e-82e3-1d8ed48494c8"
      },
      "execution_count": null,
      "outputs": [
        {
          "output_type": "stream",
          "name": "stdout",
          "text": [
            "Enter number 1-7:3\n",
            "Tuesday\n"
          ]
        }
      ]
    },
    {
      "cell_type": "code",
      "source": [
        "m1 = int(input(\"Enter marks in subject1:\"))\n",
        "m2 = int(input(\"Enter marks in subject2:\"))\n",
        "m3 = int(input(\"Enter marks in subject3:\"))\n",
        "\n",
        "avg = (m1+m2+m3)/3\n",
        "\n",
        "if(avg>=90 and avg<=100):\n",
        "  print(\"A\")\n",
        "elif(avg>=80 and avg<=89):\n",
        "  print(\"B\")\n",
        "elif(avg>=70 and avg<=79):\n",
        "  print(\"C\")\n",
        "elif(avg>=60 and avg<=69):\n",
        "  print(\"D\")\n",
        "elif(avg>=0 and avg<=59):\n",
        "  print(\"F\")\n",
        "else:\n",
        "  print(\"Invalid input\")"
      ],
      "metadata": {
        "colab": {
          "base_uri": "https://localhost:8080/"
        },
        "id": "7auCzeqkNgGZ",
        "outputId": "f298451a-da1d-4273-ed7a-c983249dd0e0"
      },
      "execution_count": null,
      "outputs": [
        {
          "output_type": "stream",
          "name": "stdout",
          "text": [
            "Enter marks in subject1:98\n",
            "Enter marks in subject2:90\n",
            "Enter marks in subject3:10\n",
            "D\n"
          ]
        }
      ]
    },
    {
      "cell_type": "code",
      "source": [
        "year = int(input(\"Enter year:\"))\n",
        "\n",
        "if(year%4==0):\n",
        "  if(year%400):\n",
        "    print(\"Leap year\")\n",
        "  else:\n",
        "    print(\"Not a Leap year\")\n",
        "else:\n",
        "    print(\"Not a Leap year\")"
      ],
      "metadata": {
        "colab": {
          "base_uri": "https://localhost:8080/"
        },
        "id": "02tc9QmmPD3O",
        "outputId": "78337afd-b970-41f2-ed27-593211716998"
      },
      "execution_count": null,
      "outputs": [
        {
          "output_type": "stream",
          "name": "stdout",
          "text": [
            "Enter year:2023\n",
            "Not a Leap year\n"
          ]
        }
      ]
    },
    {
      "cell_type": "code",
      "source": [
        "age=int(input(\"Enter your age: \"))\n",
        "if age>=18:\n",
        "  print(\"You are eligible for vote\")\n",
        "else:\n",
        "  print(\"You not eligible for vote\")"
      ],
      "metadata": {
        "id": "4mdsQx0EQbTZ"
      },
      "execution_count": null,
      "outputs": []
    },
    {
      "cell_type": "code",
      "source": [
        "ch = input(\"Enter the character : \")\n",
        "char = ch.lower();\n",
        "if(char=='a' or char=='e' or char=='i' or char=='o' or char=='u') :\n",
        "  print(ch,\"is a vowel\")\n",
        "else :\n",
        "  print(ch,\"is a consonant\")"
      ],
      "metadata": {
        "id": "iF4jfth0bEQR"
      },
      "execution_count": null,
      "outputs": []
    },
    {
      "cell_type": "code",
      "source": [
        "for i in range(1,11) :\n",
        "  print(i,end=\",\")\n",
        "print()\n",
        "for i in reversed(range(1,11)) :\n",
        "  print(i,end=\",\")\n",
        "print()\n",
        "print(\"even no. :\")\n",
        "for i in range(1,11) :\n",
        "  if(i%2==0) :\n",
        "    print(i, end=\",\")"
      ],
      "metadata": {
        "id": "befDT7cAb0uA"
      },
      "execution_count": null,
      "outputs": []
    },
    {
      "cell_type": "code",
      "source": [
        "a = int(input(\"Enter a number : \"))\n",
        "for i in range(1,11) :\n",
        "  print(a,\"x\",i,\"=\",i*a)"
      ],
      "metadata": {
        "colab": {
          "base_uri": "https://localhost:8080/"
        },
        "id": "wBiEwQ1ScMqq",
        "outputId": "07ef61b0-ae6b-4c20-9218-365de50e3c86"
      },
      "execution_count": null,
      "outputs": [
        {
          "output_type": "stream",
          "name": "stdout",
          "text": [
            "Enter a number : 10\n",
            "10 x 1 = 10\n",
            "10 x 2 = 20\n",
            "10 x 3 = 30\n",
            "10 x 4 = 40\n",
            "10 x 5 = 50\n",
            "10 x 6 = 60\n",
            "10 x 7 = 70\n",
            "10 x 8 = 80\n",
            "10 x 9 = 90\n",
            "10 x 10 = 100\n"
          ]
        }
      ]
    },
    {
      "cell_type": "code",
      "source": [
        "a = 3\n",
        "d = 4\n",
        "print(\"Arithmetic Progression :\")\n",
        "for i in range(1,9) :\n",
        "  AP = a + (i-1)*d\n",
        "  print(AP,end=\", \")"
      ],
      "metadata": {
        "id": "sY1AyB-0cTdb"
      },
      "execution_count": null,
      "outputs": []
    },
    {
      "cell_type": "code",
      "source": [
        "n = int(input(\"Enter a positive integer : \"))\n",
        "sum=0\n",
        "for i in range(1,n+1) :\n",
        "  sum += i\n",
        "print(\"Sum is\",sum)"
      ],
      "metadata": {
        "id": "H5klKQyeciRm"
      },
      "execution_count": null,
      "outputs": []
    },
    {
      "cell_type": "code",
      "source": [
        "n = int(input(\"Enter the number : \"))\n",
        "sum = 0\n",
        "for i in range(1,n+1) :\n",
        "  sum +=1/i\n",
        "print(\"Sum of reciprocals : \",sum)"
      ],
      "metadata": {
        "id": "vsNIe02sclQw"
      },
      "execution_count": null,
      "outputs": []
    },
    {
      "cell_type": "code",
      "source": [
        "base = int(input(\"Enter the Base : \"))\n",
        "exp = int(input(\"Enter the exponent : \"))\n",
        "value = 1\n",
        "if(exp>=0) :\n",
        "  for i in range(exp) :\n",
        "    value *=base\n",
        "else :\n",
        "  exp=-exp\n",
        "  for i in range(exp):\n",
        "    value*=1/base\n",
        "print(\"Value : \",value)"
      ],
      "metadata": {
        "id": "89qKTicFcsj0"
      },
      "execution_count": null,
      "outputs": []
    },
    {
      "cell_type": "code",
      "source": [
        "n = int(input(\"Enter the number : \"))\n",
        "sum = 0\n",
        "for i in range(1,n+1) :\n",
        "  if (n%i==0) :\n",
        "    print(i,end=\", \")\n",
        "    sum +=i\n",
        "print()\n",
        "print(\"Sum of all Factors : \",sum)"
      ],
      "metadata": {
        "id": "vCuyAKEkcyY0"
      },
      "execution_count": null,
      "outputs": []
    },
    {
      "cell_type": "code",
      "source": [
        "sum=0\n",
        "while True:\n",
        "  n=int(input(\"Enter the number : \"))\n",
        "  if n>=0:\n",
        "    sum+=n\n",
        "  else :\n",
        "    break\n",
        "print(\"Sum of all Entered Number is : \",sum)"
      ],
      "metadata": {
        "id": "NB0ZQ4Ddc0Wa"
      },
      "execution_count": null,
      "outputs": []
    },
    {
      "cell_type": "code",
      "source": [
        "#Assignment1\n",
        "import numpy as np\n",
        "\n",
        "n= int(input(\"Enter number of elements in array:\"))\n",
        "\n",
        "arr = np.zeros(n)\n",
        "reverse_arr = np.zeros(n)\n",
        "print(arr)\n",
        "for i in range (0,n):\n",
        "  e = int(input())\n",
        "  arr[i] = e\n",
        "  reverse_arr[n-i-1]=e\n",
        "print(arr)\n",
        "print(reverse_arr)\n",
        "\n",
        "i=0\n",
        "while i<len(arr):\n",
        "  arr[i] += reverse_arr[i]\n",
        "  i +=1\n",
        "print(arr)\n"
      ],
      "metadata": {
        "colab": {
          "base_uri": "https://localhost:8080/"
        },
        "id": "gI6XKYXnV9S9",
        "outputId": "a31a4292-4110-4461-fd92-89c7b4e84688"
      },
      "execution_count": null,
      "outputs": [
        {
          "output_type": "stream",
          "name": "stdout",
          "text": [
            "Enter number of elements in array:4\n",
            "[0. 0. 0. 0.]\n",
            "1\n",
            "2\n",
            "3\n",
            "4\n",
            "[1. 2. 3. 4.]\n",
            "[4. 3. 2. 1.]\n",
            "[5. 5. 5. 5.]\n"
          ]
        }
      ]
    },
    {
      "cell_type": "code",
      "source": [
        "import random\n",
        "cont = True\n",
        "options = ['r','p','s']\n",
        "score=0;\n",
        "while cont:\n",
        "    player = input(\"Player1: Enter Rock(r)  or Paper(p) or Scissor(s):\")\n",
        "    player = player.lower()\n",
        "    computer = random.choice(options)\n",
        "    print(\"Your choice: \"+player)\n",
        "    print(\"Computer choice: \"+computer)\n",
        "    print(\"Result:\")\n",
        "    if computer=='r':\n",
        "        if player=='r':\n",
        "            print(\"Draw!\")\n",
        "        elif player=='p':\n",
        "            print(\"You won!\")\n",
        "            score+=1\n",
        "        elif player=='s' :\n",
        "            print(\"You lost!\")\n",
        "        else:\n",
        "            print(\"Invalid choice!!\")\n",
        "    elif computer=='p':\n",
        "        if player=='r' :\n",
        "            print(\"You lost!\")\n",
        "        elif player=='p':\n",
        "            print(\"Draws!\")\n",
        "        elif player=='s':\n",
        "            print(\"You Won!\")\n",
        "            score+=1\n",
        "        else:\n",
        "            print(\"Invalid choice!!\")\n",
        "    else:\n",
        "        if player=='r' :\n",
        "            print(\"You won!\")\n",
        "            score+=1\n",
        "        elif player=='p' :\n",
        "            print(\"You lost!\")\n",
        "        elif player=='s' :\n",
        "            print(\"Draw!\")\n",
        "        else:\n",
        "            print(\"Invalid choice!!\")\n",
        "\n",
        "    choice = input(\"Do you want to continue?(n for no):\")\n",
        "    choice = choice.lower()\n",
        "    if choice=='y':\n",
        "      cont=True\n",
        "    elif choice=='n':\n",
        "      cont=False\n",
        "      break\n",
        "print(\"Your Score:\",score)\n",
        "print(\"Thanks for playing!\")"
      ],
      "metadata": {
        "colab": {
          "base_uri": "https://localhost:8080/"
        },
        "id": "qpLCGFyJKSKa",
        "outputId": "a7ac3a22-2b6b-4676-b382-884d25192ff7"
      },
      "execution_count": null,
      "outputs": [
        {
          "output_type": "stream",
          "name": "stdout",
          "text": [
            "Player1: Enter Rock(r)  or Paper(p) or Scissor(s):s\n",
            "Your choice: s\n",
            "Computer choice: s\n",
            "Result:\n",
            "Draw!\n",
            "Do you want to continue?(n for no):y\n",
            "Player1: Enter Rock(r)  or Paper(p) or Scissor(s):s\n",
            "Your choice: s\n",
            "Computer choice: s\n",
            "Result:\n",
            "Draw!\n",
            "Do you want to continue?(n for no):y\n",
            "Player1: Enter Rock(r)  or Paper(p) or Scissor(s):s\n",
            "Your choice: s\n",
            "Computer choice: r\n",
            "Result:\n",
            "You lost!\n",
            "Do you want to continue?(n for no):y\n",
            "Player1: Enter Rock(r)  or Paper(p) or Scissor(s):p\n",
            "Your choice: p\n",
            "Computer choice: r\n",
            "Result:\n",
            "You won!\n",
            "Do you want to continue?(n for no):n\n",
            "Your Score:  1\n",
            "Thanks for playing!\n"
          ]
        }
      ]
    },
    {
      "cell_type": "code",
      "source": [
        "import random\n",
        "options = ['r','p','s']\n",
        "computer = random.choice(options)\n",
        "print(computer,7)"
      ],
      "metadata": {
        "colab": {
          "base_uri": "https://localhost:8080/"
        },
        "id": "tI_swtP5KjUG",
        "outputId": "1699e6ad-9c24-42ed-a061-c38b11a867e5"
      },
      "execution_count": null,
      "outputs": [
        {
          "output_type": "stream",
          "name": "stdout",
          "text": [
            "s 7\n"
          ]
        }
      ]
    },
    {
      "cell_type": "code",
      "source": [
        "word = input(\"Enter a string:\")\n",
        "word = word.lower()\n",
        "length=len(word)\n",
        "flag=1\n",
        "j=length-1;\n",
        "i=0\n",
        "while(i<j):\n",
        "  if word[i]!=word[j]:\n",
        "    flag=0\n",
        "  i+=1\n",
        "  j-=1\n",
        "if flag==0:\n",
        "  print(\"Not palindrome\")\n",
        "else:\n",
        "  print(\"Palindrome\")"
      ],
      "metadata": {
        "colab": {
          "base_uri": "https://localhost:8080/"
        },
        "id": "U7m37vm0OtRa",
        "outputId": "849f2835-ef93-40d1-f05e-aa54b91dffb2"
      },
      "execution_count": null,
      "outputs": [
        {
          "output_type": "stream",
          "name": "stdout",
          "text": [
            "Enter a string:Nitin\n",
            "Palindrome\n"
          ]
        }
      ]
    },
    {
      "cell_type": "code",
      "source": [],
      "metadata": {
        "id": "4vH86JMaQN8g"
      },
      "execution_count": null,
      "outputs": []
    }
  ]
}