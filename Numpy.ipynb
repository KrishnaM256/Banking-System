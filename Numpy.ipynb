{
 "cells": [
  {
   "cell_type": "code",
   "execution_count": 9,
   "id": "1553fac8-9862-417d-8b0e-727b69fd1d2e",
   "metadata": {},
   "outputs": [],
   "source": [
    "import numpy as np"
   ]
  },
  {
   "cell_type": "code",
   "execution_count": 11,
   "id": "c1538ebf-dc9e-40f4-b0ab-355053d10264",
   "metadata": {},
   "outputs": [
    {
     "name": "stdout",
     "output_type": "stream",
     "text": [
      "[0 1 2 3 4 5 6 7 8 9]\n"
     ]
    }
   ],
   "source": [
    "np1 = np.array([0,1,2,3,4,5,6,7,8,9])\n",
    "print(np1)"
   ]
  },
  {
   "cell_type": "code",
   "execution_count": 13,
   "id": "6328304f-5843-4f8e-b23c-d62f7fe356c8",
   "metadata": {},
   "outputs": [
    {
     "name": "stdout",
     "output_type": "stream",
     "text": [
      "(10,)\n"
     ]
    }
   ],
   "source": [
    "print(np1.shape)"
   ]
  },
  {
   "cell_type": "code",
   "execution_count": 15,
   "id": "db610982-72d0-4097-a27b-0638157b72a7",
   "metadata": {},
   "outputs": [
    {
     "name": "stdout",
     "output_type": "stream",
     "text": [
      "(2, 5)\n"
     ]
    }
   ],
   "source": [
    "np2 = np.array([[1,2,3,4,5],[6,7,8,9,0]])\n",
    "print(np2.shape)"
   ]
  },
  {
   "cell_type": "code",
   "execution_count": 19,
   "id": "3feb19de-f41b-49c0-9fdd-d9fe665929b5",
   "metadata": {},
   "outputs": [
    {
     "name": "stdout",
     "output_type": "stream",
     "text": [
      "[10  9  8  7  6  5  4  3  2  1]\n"
     ]
    }
   ],
   "source": [
    "np3 = np.arange(10,0,-1)\n",
    "print(np3)"
   ]
  },
  {
   "cell_type": "code",
   "execution_count": 21,
   "id": "b38fc104-f365-4620-8480-ffbba6d1b188",
   "metadata": {},
   "outputs": [
    {
     "name": "stdout",
     "output_type": "stream",
     "text": [
      "[   0    1  256 2187 4096 3125 1296  343   64    9]\n"
     ]
    }
   ],
   "source": [
    "np4 = np.power(np1,np3)\n",
    "print(np4)"
   ]
  },
  {
   "cell_type": "code",
   "execution_count": null,
   "id": "07311f91-d6a7-4462-baa3-93b35d3e8ad7",
   "metadata": {},
   "outputs": [],
   "source": []
  }
 ],
 "metadata": {
  "kernelspec": {
   "display_name": "Python 3 (ipykernel)",
   "language": "python",
   "name": "python3"
  },
  "language_info": {
   "codemirror_mode": {
    "name": "ipython",
    "version": 3
   },
   "file_extension": ".py",
   "mimetype": "text/x-python",
   "name": "python",
   "nbconvert_exporter": "python",
   "pygments_lexer": "ipython3",
   "version": "3.11.7"
  }
 },
 "nbformat": 4,
 "nbformat_minor": 5
}
